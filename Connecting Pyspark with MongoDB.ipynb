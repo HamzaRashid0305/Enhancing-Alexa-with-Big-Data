{
 "cells": [
  {
   "cell_type": "markdown",
   "id": "264735b0",
   "metadata": {},
   "source": [
    "# Load the Amazon product dataset into MongoDB using Apache Spark"
   ]
  },
  {
   "cell_type": "code",
   "execution_count": 1,
   "id": "c2d46e5a",
   "metadata": {},
   "outputs": [],
   "source": [
    "from pyspark.sql import functions\n",
    "from pyspark.sql import Row\n",
    "import findspark\n",
    "findspark.init()\n",
    "import json\n",
    "import itertools\n",
    "from pyspark import SparkConf\n",
    "from pyspark.sql.types import StructType,StructField,StringType,IntegerType,BooleanType,LongType,DoubleType\n",
    "\n",
    "\n",
    "database_uri = \"mongodb://127.0.0.1:27017\"\n",
    "working_directory =\"C://jars/*\"\n",
    "\n"
   ]
  },
  {
   "cell_type": "markdown",
   "id": "313457c4",
   "metadata": {},
   "source": [
    "# Connecting spark with MongoDB in Spark Session through mongo-spark-connector  "
   ]
  },
  {
   "cell_type": "code",
   "execution_count": 2,
   "id": "cf3e12ec",
   "metadata": {},
   "outputs": [],
   "source": [
    "from pyspark.sql import SparkSession\n",
    "from pyspark import SparkContext\n",
    "\n",
    "# defining the Schema for extracting Data into spark rdd \n",
    "schema = StructType([StructField(\"asin\",StringType(),True),\n",
    "                     StructField(\"overall\",DoubleType(),True),\n",
    "                     StructField(\"reviewText\",StringType(),True),\n",
    "                     StructField(\"reviewTime\", StringType(), True),\n",
    "                     StructField(\"reviewerID\", StringType(), True),\n",
    "                     StructField(\"summary\", StringType(), True),\n",
    "                     StructField(\"unixReviewTime\", LongType(), True),\n",
    "                     StructField(\"verified\", BooleanType(), True)])\n",
    "spark = SparkSession.builder.master(\"local\").appName('SparkByExamples.com').config(\"spark.mongodb.input.uri\", database_uri).config(\"spark.mongodb.output.uri\", database_uri).config(\"spark.jars.packages\", \"org.mongodb.spark:mongo-spark-connector_2.12:3.0.1\").getOrCreate()\n",
    "df = spark.read.format(\"json\").option(\"multiLine\",\"False\").schema(schema).option(\"inferSchema\",\"True\").load(\"C:/Users/dell/Downloads/All_Amazon_Review.json/All_Amazon_Review.json\")\n",
    "df1=df.dropna()\n",
    "\n"
   ]
  },
  {
   "cell_type": "code",
   "execution_count": 4,
   "id": "c04d8a48",
   "metadata": {},
   "outputs": [
    {
     "name": "stdout",
     "output_type": "stream",
     "text": [
      "+----------+-------+--------------------+-----------+--------------+--------------------+--------------+--------+\n",
      "|      asin|overall|          reviewText| reviewTime|    reviewerID|             summary|unixReviewTime|verified|\n",
      "+----------+-------+--------------------+-----------+--------------+--------------------+--------------+--------+\n",
      "|B017O9P72A|    1.0|Alexa is not able...|12 11, 2015|A27BTSGLXK2C5K|VERY Buggy, doesn...|    1449792000|   false|\n",
      "|B017O9P72A|    4.0|Alexa works great...| 12 8, 2015|A27ZJ1NCBFP1HZ|      So Far So Good|    1449532800|   false|\n",
      "|B017O9P72A|    1.0|Weak!!\\n\\nAlexa d...| 12 7, 2015| ACCQIOZMFN4UK|         Time waster|    1449446400|   false|\n",
      "|B017O9P72A|    2.0|Can only control ...| 12 5, 2015|A3KUPJ396OQF78|               Buggy|    1449273600|   false|\n",
      "|B017O9P72A|    1.0|this worked great...| 02 2, 2018|A1U1RE1ZI19E1H|     stopped working|    1517529600|   false|\n",
      "|B017O9P72A|    5.0|         Great skill|01 15, 2018|A3TXR8GLKS19RE|               Great|    1515974400|   false|\n",
      "|B017O9P72A|    1.0|Pretty crappy. Wo...| 01 5, 2018| AVIWE1LJXCG77|        Returning to|    1515110400|   false|\n",
      "|B017O9P72A|    1.0|Not happy. Can no...| 01 4, 2018|A1FOHYK23FJ6CN|Can not connect t...|    1515024000|   false|\n",
      "|B017O9P72A|    1.0|Can not connect a...|12 30, 2017|A1RRDX9AOST1AN|Connecting is a n...|    1514592000|   false|\n",
      "|B017O9P72A|    1.0|The service works...|12 29, 2017| AA4DHYT5YSSIT|       Does not work|    1514505600|   false|\n",
      "|B017O9P72A|    3.0|The LifX bulb is ...|12 29, 2017|A3TYO7I2GSCH4X|      Almost awesome|    1514505600|   false|\n",
      "|B017O9P72A|    5.0|So easy to connec...|12 25, 2017|A3KWZMO1A9TO3Z|     This is awesome|    1514160000|   false|\n",
      "|B017O9P72A|    5.0|I use &ldquo;Echo...|12 18, 2017|A1QBG1TTQZGJNM|      Alexa and LIFX|    1513555200|   false|\n",
      "|B017O9P72A|    2.0|Can&rsquo;t conne...|11 28, 2017|A2NGABQTU93H28|          Really bad|    1511827200|   false|\n",
      "|B017O9P72A|    5.0|I haven't had any...|11 24, 2017|A2LNJJWW2TLL00|            Love it!|    1511481600|   false|\n",
      "|B017O9P72A|    1.0|This app forces y...|11 23, 2017|A1M5UIUZ2P5FFO|   Use the other app|    1511395200|   false|\n",
      "|B017O9P72A|    1.0|Red all steps and...|11 10, 2017| AE5S7XRYMZ15P|I can&rsquo;t con...|    1510272000|   false|\n",
      "|B017O9P72A|    4.0|This skill works ...|10 19, 2017|A18JLUE8V4G7TX|This skill works ...|    1508371200|   false|\n",
      "|B017O9P72A|    1.0|Who would think y...|09 13, 2017|A1E35W9YOVAH1G|            Pathetic|    1505260800|   false|\n",
      "|B017O9P72A|    3.0|Lifx is a weird w...|08 23, 2017|A2OPRIKEHM8WUI|            Not bad.|    1503446400|   false|\n",
      "+----------+-------+--------------------+-----------+--------------+--------------------+--------------+--------+\n",
      "only showing top 20 rows\n",
      "\n"
     ]
    }
   ],
   "source": [
    "df1.show()"
   ]
  },
  {
   "cell_type": "code",
   "execution_count": 5,
   "id": "6a9fee5a",
   "metadata": {},
   "outputs": [
    {
     "name": "stdout",
     "output_type": "stream",
     "text": [
      "root\n",
      " |-- asin: string (nullable = true)\n",
      " |-- overall: double (nullable = true)\n",
      " |-- reviewText: string (nullable = true)\n",
      " |-- reviewTime: string (nullable = true)\n",
      " |-- reviewerID: string (nullable = true)\n",
      " |-- summary: string (nullable = true)\n",
      " |-- unixReviewTime: long (nullable = true)\n",
      " |-- verified: boolean (nullable = true)\n",
      "\n"
     ]
    }
   ],
   "source": [
    "df1.printSchema()"
   ]
  },
  {
   "cell_type": "markdown",
   "id": "4f4f0c8c",
   "metadata": {},
   "source": [
    "# Writing the data through Pyspark RDD into MongoDB "
   ]
  },
  {
   "cell_type": "code",
   "execution_count": null,
   "id": "a6997ff4",
   "metadata": {},
   "outputs": [],
   "source": [
    "df1.write.format(\"com.mongodb.spark.sql.DefaultSource\").option('uri', 'mongodb://127.0.0.1:27017').option('database', 'review_data').option('collection', 'reviews').mode(\"append\").save()"
   ]
  }
 ],
 "metadata": {
  "kernelspec": {
   "display_name": "Python 3 (ipykernel)",
   "language": "python",
   "name": "python3"
  },
  "language_info": {
   "codemirror_mode": {
    "name": "ipython",
    "version": 3
   },
   "file_extension": ".py",
   "mimetype": "text/x-python",
   "name": "python",
   "nbconvert_exporter": "python",
   "pygments_lexer": "ipython3",
   "version": "3.11.3"
  }
 },
 "nbformat": 4,
 "nbformat_minor": 5
}
