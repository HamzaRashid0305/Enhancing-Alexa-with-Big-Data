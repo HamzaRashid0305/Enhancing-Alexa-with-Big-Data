{
 "cells": [
  {
   "cell_type": "code",
   "execution_count": 114,
   "id": "765c9e28",
   "metadata": {},
   "outputs": [],
   "source": [
    "from kafka import KafkaConsumer\n",
    "from json import loads\n",
    "from flask import Flask,render_template,request"
   ]
  },
  {
   "cell_type": "markdown",
   "id": "96001497",
   "metadata": {},
   "source": [
    "Activating the Consumer"
   ]
  },
  {
   "cell_type": "code",
   "execution_count": 88,
   "id": "6e0b3a69",
   "metadata": {},
   "outputs": [],
   "source": [
    "consumer=KafkaConsumer(\"test\",bootstrap_servers=[\"localhost:9092\"],api_version=(10,0,1))"
   ]
  },
  {
   "cell_type": "markdown",
   "id": "c6ec8cd5",
   "metadata": {},
   "source": [
    "# Flask Application for Alexa Product Reviews"
   ]
  },
  {
   "cell_type": "code",
   "execution_count": 116,
   "id": "b2b24f77",
   "metadata": {},
   "outputs": [
    {
     "name": "stdout",
     "output_type": "stream",
     "text": [
      " * Serving Flask app '__main__'\n",
      " * Debug mode: off\n"
     ]
    },
    {
     "name": "stderr",
     "output_type": "stream",
     "text": [
      "WARNING: This is a development server. Do not use it in a production deployment. Use a production WSGI server instead.\n",
      " * Running on http://127.0.0.1:5000\n",
      "Press CTRL+C to quit\n",
      "127.0.0.1 - - [13/May/2023 11:47:40] \"GET / HTTP/1.1\" 200 -\n"
     ]
    },
    {
     "name": "stdout",
     "output_type": "stream",
     "text": [
      "Continuous reading option\n"
     ]
    },
    {
     "name": "stderr",
     "output_type": "stream",
     "text": [
      "127.0.0.1 - - [13/May/2023 11:47:42] \"GET / HTTP/1.1\" 200 -\n"
     ]
    },
    {
     "name": "stdout",
     "output_type": "stream",
     "text": [
      "It&rsquo;s okay..\n"
     ]
    },
    {
     "name": "stderr",
     "output_type": "stream",
     "text": [
      "127.0.0.1 - - [13/May/2023 11:47:45] \"GET / HTTP/1.1\" 200 -\n"
     ]
    },
    {
     "name": "stdout",
     "output_type": "stream",
     "text": [
      "alexa always automatically enable the vivint skill and ask me ...\n"
     ]
    },
    {
     "name": "stderr",
     "output_type": "stream",
     "text": [
      "127.0.0.1 - - [13/May/2023 11:47:47] \"GET / HTTP/1.1\" 200 -\n"
     ]
    },
    {
     "name": "stdout",
     "output_type": "stream",
     "text": [
      "My cameras show on my TV!  Mind blown!\n"
     ]
    },
    {
     "name": "stderr",
     "output_type": "stream",
     "text": [
      "127.0.0.1 - - [13/May/2023 11:47:49] \"GET / HTTP/1.1\" 200 -\n"
     ]
    },
    {
     "name": "stdout",
     "output_type": "stream",
     "text": [
      "Perfect.\n"
     ]
    },
    {
     "name": "stderr",
     "output_type": "stream",
     "text": [
      "127.0.0.1 - - [13/May/2023 11:47:51] \"GET / HTTP/1.1\" 200 -\n"
     ]
    },
    {
     "name": "stdout",
     "output_type": "stream",
     "text": [
      "Was working good but not anymore.\n"
     ]
    },
    {
     "name": "stderr",
     "output_type": "stream",
     "text": [
      "127.0.0.1 - - [13/May/2023 11:47:53] \"GET / HTTP/1.1\" 200 -\n"
     ]
    },
    {
     "name": "stdout",
     "output_type": "stream",
     "text": [
      "Didn't know any animal sounds\n"
     ]
    },
    {
     "name": "stderr",
     "output_type": "stream",
     "text": [
      "127.0.0.1 - - [13/May/2023 11:47:55] \"GET / HTTP/1.1\" 200 -\n"
     ]
    },
    {
     "name": "stdout",
     "output_type": "stream",
     "text": [
      "I would be nice, well more necessary or essential to be able to use the names of the zones insted of their number..\n"
     ]
    },
    {
     "name": "stderr",
     "output_type": "stream",
     "text": [
      "127.0.0.1 - - [13/May/2023 11:47:58] \"GET / HTTP/1.1\" 200 -\n"
     ]
    },
    {
     "name": "stdout",
     "output_type": "stream",
     "text": [
      "ATTENTION: HERES THE FIX FOR WHEN ALEXA REPEATEDLY RESPONDS WITH \"WHICH ZONE TO RUN AND HOW LONG TO RUN IT FOR?\"\n"
     ]
    }
   ],
   "source": [
    "\n",
    "app = Flask(__name__,template_folder=\"temp\")\n",
    "@app.route('/')\n",
    "def index():\n",
    "    for message in consumer:\n",
    "        message_value = message.value.decode('utf-8')\n",
    "        print(message_value)\n",
    "        return render_template(\"result.html\",result=message_value)\n",
    "app.run(debug=False)"
   ]
  },
  {
   "cell_type": "code",
   "execution_count": 42,
   "id": "259dbbe3",
   "metadata": {},
   "outputs": [],
   "source": []
  }
 ],
 "metadata": {
  "kernelspec": {
   "display_name": "Python 3 (ipykernel)",
   "language": "python",
   "name": "python3"
  },
  "language_info": {
   "codemirror_mode": {
    "name": "ipython",
    "version": 3
   },
   "file_extension": ".py",
   "mimetype": "text/x-python",
   "name": "python",
   "nbconvert_exporter": "python",
   "pygments_lexer": "ipython3",
   "version": "3.11.3"
  }
 },
 "nbformat": 4,
 "nbformat_minor": 5
}
